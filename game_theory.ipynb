{
 "cells": [
  {
   "cell_type": "code",
   "execution_count": null,
   "id": "5dd73fdc",
   "metadata": {},
   "outputs": [],
   "source": [
    "from payoff_matrix import *\n",
    "from psne import *\n",
    "from msne import *"
   ]
  },
  {
   "cell_type": "markdown",
   "id": "32c46301",
   "metadata": {},
   "source": [
    "## Payoff matrix"
   ]
  },
  {
   "cell_type": "code",
   "execution_count": null,
   "id": "af51ea75",
   "metadata": {},
   "outputs": [],
   "source": [
    "# import any game from csv file in the \"games\" folder\n",
    "game = PayoffMatrix(file_source='./games/chicken_game.csv')\n",
    "game.output()"
   ]
  },
  {
   "cell_type": "markdown",
   "id": "8afdcf32",
   "metadata": {},
   "source": [
    "## Pure strategy Nash equilibria (PSNE)"
   ]
  },
  {
   "cell_type": "markdown",
   "id": "ea2cc52d",
   "metadata": {},
   "source": [
    "### Best responses"
   ]
  },
  {
   "cell_type": "code",
   "execution_count": null,
   "id": "b24867f5",
   "metadata": {},
   "outputs": [],
   "source": [
    "# apply best responses algorithm to determine pure strategy Nash equilibria, showing steps\n",
    "best_responses(game)"
   ]
  },
  {
   "cell_type": "markdown",
   "id": "a0615d0f",
   "metadata": {},
   "source": [
    "### Iterated elimination of stricty dominated strategies (IESDS)"
   ]
  },
  {
   "cell_type": "code",
   "execution_count": null,
   "id": "d2663afb",
   "metadata": {},
   "outputs": [],
   "source": [
    "# apply IESDS algorithm to determine pure strategy Nash equilibria, showing steps\n",
    "IESDS(game)"
   ]
  },
  {
   "cell_type": "markdown",
   "id": "66c43140",
   "metadata": {},
   "source": [
    "## Mixed strategy Nash equilibria (MSNE)"
   ]
  },
  {
   "cell_type": "markdown",
   "id": "743021d2",
   "metadata": {},
   "source": [
    "### Mixed strategies"
   ]
  },
  {
   "cell_type": "code",
   "execution_count": null,
   "id": "3620856d",
   "metadata": {},
   "outputs": [],
   "source": [
    "# determine mixed strategy nash equilibria for each player, showing steps (only works for 2x2 payoff matrices)\n",
    "MSNEs = mixed_strategies(game)"
   ]
  },
  {
   "cell_type": "markdown",
   "id": "6b2a5527",
   "metadata": {},
   "source": [
    "### Expected utilities (EU)"
   ]
  },
  {
   "cell_type": "code",
   "execution_count": null,
   "id": "75e54dbd",
   "metadata": {},
   "outputs": [],
   "source": [
    "# calculate expected utility of each player, using their previously determined MSNEs (2x2 matrices only)\n",
    "expected_utilities(game, MSNEs[0], MSNEs[1])"
   ]
  },
  {
   "cell_type": "code",
   "execution_count": null,
   "id": "84e1e66b",
   "metadata": {},
   "outputs": [],
   "source": []
  }
 ],
 "metadata": {
  "kernelspec": {
   "display_name": "Python 3 (ipykernel)",
   "language": "python",
   "name": "python3"
  },
  "language_info": {
   "codemirror_mode": {
    "name": "ipython",
    "version": 3
   },
   "file_extension": ".py",
   "mimetype": "text/x-python",
   "name": "python",
   "nbconvert_exporter": "python",
   "pygments_lexer": "ipython3",
   "version": "3.9.9"
  }
 },
 "nbformat": 4,
 "nbformat_minor": 5
}
